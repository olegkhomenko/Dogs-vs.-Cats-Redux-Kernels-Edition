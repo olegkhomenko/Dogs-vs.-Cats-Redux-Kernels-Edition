{
 "cells": [
  {
   "cell_type": "markdown",
   "metadata": {},
   "source": [
    "[kernel #1](https://www.kaggle.com/sentdex/dogs-vs-cats-redux-kernels-edition/full-classification-example-with-convnet)\n",
    "\n",
    "[kernel #2](https://www.kaggle.com/jeffd23/dogs-vs-cats-redux-kernels-edition/catdognet-keras-convnet-starter)\n",
    "\n",
    "[kernel #3](https://www.kaggle.com/cgallay/dogs-vs-cats-redux-kernels-edition/cat-dog-notebook)\n",
    "\n",
    "https://pythonprogramming.net/cnn-tensorflow-convolutional-nerual-network-machine-learning-tutorial/\n",
    "\n",
    "https://pythonprogramming.net/tflearn-machine-learning-tutorial/"
   ]
  },
  {
   "cell_type": "code",
   "execution_count": 1,
   "metadata": {
    "collapsed": false
   },
   "outputs": [
    {
     "name": "stdout",
     "output_type": "stream",
     "text": [
      "curses is not supported on this machine (please install/reinstall curses for an optimal experience)\n"
     ]
    }
   ],
   "source": [
    "import cv2\n",
    "import os\n",
    "from tqdm import tqdm # progress bar for long operations\n",
    "\n",
    "import numpy as np\n",
    "import matplotlib.pyplot as plt\n",
    "% matplotlib inline\n",
    "\n",
    "from sklearn.model_selection import train_test_split\n",
    "\n",
    "import tflearn\n",
    "from tflearn.layers.conv import conv_2d, max_pool_2d\n",
    "from tflearn.layers.core import input_data, dropout, fully_connected\n",
    "from tflearn.layers.estimator import regression"
   ]
  },
  {
   "cell_type": "code",
   "execution_count": 2,
   "metadata": {
    "collapsed": true
   },
   "outputs": [],
   "source": [
    "image_shape = (128, 128)\n",
    "LR = 0.001"
   ]
  },
  {
   "cell_type": "code",
   "execution_count": 3,
   "metadata": {
    "collapsed": false
   },
   "outputs": [
    {
     "name": "stderr",
     "output_type": "stream",
     "text": [
      "100%|███████████████████████████████████████████████████████████████████████████| 25000/25000 [00:27<00:00, 924.62it/s]\n",
      "100%|███████████████████████████████████████████████████████████████████████████| 12500/12500 [00:13<00:00, 939.81it/s]\n"
     ]
    }
   ],
   "source": [
    "Y_train = []\n",
    "X_train = []\n",
    "\n",
    "for filename in tqdm(os.listdir(\"train\")):\n",
    "    Y_train.append(int(filename.startswith(\"cat\")))\n",
    "    full_path = os.path.join(\"train\", filename)\n",
    "    image = cv2.imread(full_path, cv2.IMREAD_GRAYSCALE)\n",
    "    image = cv2.resize(image, image_shape)\n",
    "    X_train.append([np.array(image).reshape(image_shape).astype(np.float32)])\n",
    "\n",
    "Y_train = np.array(Y_train)\n",
    "Y_train = np.concatenate((Y_train.reshape(-1, 1), 1 - Y_train.reshape(-1, 1)), axis=1)\n",
    "X_train = np.concatenate(tuple(X_train), axis=0).reshape(-1, image_shape[0], image_shape[1], 1)\n",
    "\n",
    "np.save(\"X_train\", X_train)\n",
    "np.save(\"Y_train\", Y_train)\n",
    "\n",
    "X_test = []\n",
    "\n",
    "for filename in tqdm(os.listdir(\"test\")):\n",
    "    full_path = os.path.join(\"test\", filename)\n",
    "    image = cv2.imread(full_path, cv2.IMREAD_GRAYSCALE)\n",
    "    image = cv2.resize(image, image_shape)\n",
    "    X_test.append([np.array(image).reshape(image_shape).astype(np.float32)])\n",
    "\n",
    "X_test = np.concatenate(tuple(X_test), axis=0).reshape(-1, image_shape[0], image_shape[1], 1)\n",
    "\n",
    "np.save(\"X_test\", X_test)"
   ]
  },
  {
   "cell_type": "code",
   "execution_count": 2,
   "metadata": {
    "collapsed": false
   },
   "outputs": [],
   "source": [
    "# reload arrays if shape is not changed\n",
    "\n",
    "X_train = np.load(\"X_train.npy\")\n",
    "Y_train = np.load(\"Y_train.npy\")\n",
    "\n",
    "X_test = np.load(\"X_test.npy\")"
   ]
  },
  {
   "cell_type": "code",
   "execution_count": 4,
   "metadata": {
    "collapsed": true
   },
   "outputs": [],
   "source": [
    "X_train, X_val, Y_train, Y_val = train_test_split(X_train, Y_train, test_size=0.1)"
   ]
  },
  {
   "cell_type": "code",
   "execution_count": 5,
   "metadata": {
    "collapsed": false
   },
   "outputs": [],
   "source": [
    "convnet = input_data(shape=[None, image_shape[0], image_shape[1], 1], name='input')\n",
    "\n",
    "convnet = conv_2d(convnet, 32, 5, activation='relu')\n",
    "convnet = max_pool_2d(convnet, 5)\n",
    "\n",
    "convnet = conv_2d(convnet, 64, 5, activation='relu')\n",
    "convnet = max_pool_2d(convnet, 5)\n",
    "\n",
    "convnet = conv_2d(convnet, 32, 5, activation='relu')\n",
    "convnet = max_pool_2d(convnet, 5)\n",
    "\n",
    "convnet = conv_2d(convnet, 64, 5, activation='relu')\n",
    "convnet = max_pool_2d(convnet, 5)\n",
    "\n",
    "convnet = conv_2d(convnet, 32, 5, activation='relu')\n",
    "convnet = max_pool_2d(convnet, 5)\n",
    "\n",
    "convnet = conv_2d(convnet, 64, 5, activation='relu')\n",
    "convnet = max_pool_2d(convnet, 5)\n",
    "\n",
    "convnet = fully_connected(convnet, 1024, activation='relu')\n",
    "convnet = dropout(convnet, 0.8)\n",
    "\n",
    "convnet = fully_connected(convnet, 2, activation='softmax')\n",
    "convnet = regression(convnet, optimizer='adam', learning_rate=LR, loss='categorical_crossentropy', name='targets')\n",
    "\n",
    "model = tflearn.DNN(convnet, tensorboard_dir='log')"
   ]
  },
  {
   "cell_type": "code",
   "execution_count": 6,
   "metadata": {
    "collapsed": false
   },
   "outputs": [
    {
     "name": "stdout",
     "output_type": "stream",
     "text": [
      "Training Step: 1407  | total loss: 0.37817 | time: 20.520s\n",
      "| Adam | epoch: 004 | loss: 0.37817 - acc: 0.8288 -- iter: 22464/22500\n",
      "Training Step: 1408  | total loss: 0.36488 | time: 21.603s\n",
      "| Adam | epoch: 004 | loss: 0.36488 - acc: 0.8382 | val_loss: 0.40325 - val_acc: 0.8268 -- iter: 22500/22500\n",
      "--\n"
     ]
    }
   ],
   "source": [
    "model.fit({'input': X_train}, {'targets': Y_train}, n_epoch=4, validation_set=({'input': X_val}, {'targets': Y_val}), snapshot_step=500, show_metric=True)"
   ]
  }
 ],
 "metadata": {
  "anaconda-cloud": {},
  "kernelspec": {
   "display_name": "Python [default]",
   "language": "python",
   "name": "python3"
  },
  "language_info": {
   "codemirror_mode": {
    "name": "ipython",
    "version": 3
   },
   "file_extension": ".py",
   "mimetype": "text/x-python",
   "name": "python",
   "nbconvert_exporter": "python",
   "pygments_lexer": "ipython3",
   "version": "3.5.2"
  }
 },
 "nbformat": 4,
 "nbformat_minor": 1
}
